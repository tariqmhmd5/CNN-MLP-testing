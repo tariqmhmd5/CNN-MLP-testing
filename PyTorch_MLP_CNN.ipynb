{
 "cells": [
  {
   "cell_type": "markdown",
   "metadata": {
    "id": "oRteDLEPP3eX"
   },
   "source": [
    "The considered problem is about classifying images to $L$ classes. In the first part of the assignment, you are asked get familiar with PyTorch, a deep learning library, and the basics of neural networks, and implement neural-network-based classifiers. For this purpose, we will start with classifying small images (8px x 8px) of handwritten digits to one of 10 classes. The dataset is very small and all experiments could be achieved within a couple of minutes."
   ]
  },
  {
   "cell_type": "code",
   "execution_count": 1,
   "metadata": {
    "id": "g4wCnPRz-MaE"
   },
   "outputs": [],
   "source": [
    "import os\n",
    "\n",
    "import numpy as np\n",
    "import matplotlib.pyplot as plt\n",
    "import torch\n",
    "from sklearn.datasets import load_digits\n",
    "from sklearn import datasets\n",
    "from torch.utils.data import Dataset, DataLoader\n",
    "import torch.nn as nn\n",
    "import torch.nn.functional as F\n",
    "\n",
    "EPS = 1.e-7"
   ]
  },
  {
   "cell_type": "code",
   "execution_count": 2,
   "metadata": {
    "id": "mRmwbuamRuge"
   },
   "outputs": [],
   "source": [
    "# # IF YOU USE COLAB, THIS IS VERY USEFUL! OTHERWISE, PLEASE REMOVE IT.\n",
    "# # mount drive: WE NEED IT FOR SAVING IMAGES!\n",
    "# from google.colab import drive\n",
    "# drive.mount('/content/gdrive')"
   ]
  },
  {
   "cell_type": "code",
   "execution_count": 3,
   "metadata": {
    "id": "KEiEJE5sRvjc"
   },
   "outputs": [],
   "source": [
    "# IF YOU USE COLAB, THIS IS VERY USEFUL! OTHERWISE, PLEASE REMOVE IT.\n",
    "# PLEASE CHANGE IT TO YOUR OWN GOOGLE DRIVE!\n",
    "# results_dir = '/content/gdrive/My Drive/Colab Notebooks/TEACHING/'\n",
    "results_dir = ''"
   ]
  },
  {
   "cell_type": "code",
   "execution_count": 4,
   "metadata": {
    "id": "Xm4e0Utl-30c"
   },
   "outputs": [],
   "source": [
    "class Digits(Dataset):\n",
    "  \"\"\"Scikit-Learn Digits dataset.\"\"\"\n",
    "\n",
    "  def __init__(self, mode='train', transforms=None):\n",
    "    digits = load_digits()\n",
    "    if mode == 'train':\n",
    "      self.data = digits.data[:1000].astype(np.float32)\n",
    "      self.targets = digits.target[:1000]\n",
    "    elif mode == 'val':\n",
    "      self.data = digits.data[1000:1350].astype(np.float32)\n",
    "      self.targets = digits.target[1000:1350]\n",
    "    else:\n",
    "      self.data = digits.data[1350:].astype(np.float32)\n",
    "      self.targets = digits.target[1350:]\n",
    "\n",
    "    self.transforms = transforms\n",
    "\n",
    "  def __len__(self):\n",
    "    return len(self.data)\n",
    "\n",
    "  def __getitem__(self, idx):\n",
    "    sample_x = self.data[idx]\n",
    "    sample_y = self.targets[idx]\n",
    "    if self.transforms:\n",
    "      sample_x = self.transforms(sample_x)\n",
    "    return (sample_x, sample_y)"
   ]
  },
  {
   "cell_type": "code",
   "execution_count": 5,
   "metadata": {
    "id": "bnDz_yGeuOnh"
   },
   "outputs": [
    {
     "data": {
      "image/png": "[encoded data removed]",
      "text/plain": [
       "<Figure size 288x288 with 16 Axes>"
      ]
     },
     "metadata": {
      "needs_background": "light"
     },
     "output_type": "display_data"
    }
   ],
   "source": [
    "digits = load_digits()\n",
    "x = digits.data[:16].astype(np.float32)\n",
    "\n",
    "fig_data, axs = plt.subplots(4,4,figsize=(4, 4))\n",
    "fig_data.tight_layout()\n",
    "\n",
    "for i in range(4):\n",
    "  for j in range(4):\n",
    "    img = np.reshape(x[4*i+j],(8,8))\n",
    "    axs[i,j].imshow(img, cmap='gray')\n",
    "    axs[i,j].axis('off')"
   ]
  },
  {
   "cell_type": "markdown",
   "metadata": {
    "id": "wgc_GFOyRBEi"
   },
   "source": [
    "## 2 Neural Networks for Digits"
   ]
  },
  {
   "cell_type": "markdown",
   "metadata": {
    "id": "iwuEfxSKpFtD"
   },
   "source": [
    "### 2.1 Neural Network Classifier"
   ]
  },
  {
   "cell_type": "markdown",
   "metadata": {
    "id": "9FThxxdkpKcQ"
   },
   "source": [
    "Below, we have two helper modules (layers) that can be used to reshape and flatten a tensor. They are useful for creating sequentials with convolutional layers."
   ]
  },
  {
   "cell_type": "code",
   "execution_count": 6,
   "metadata": {
    "id": "5AB5Ch63Ak01"
   },
   "outputs": [],
   "source": [
    "# This module reshapes an input (matrix -> tensor).\n",
    "class Reshape(nn.Module):\n",
    "  def __init__(self, size):\n",
    "    super(Reshape, self).__init__()\n",
    "    self.size = size # a list\n",
    "  \n",
    "  def forward(self, x):\n",
    "    assert x.shape[1] == np.prod(self.size)\n",
    "    return x.view(x.shape[0], *self.size)\n",
    "\n",
    "# This module flattens an input (tensor -> matrix) by blending dimensions \n",
    "# beyond the batch size.\n",
    "class Flatten(nn.Module):\n",
    "  def __init__(self):\n",
    "    super(Flatten, self).__init__()\n",
    "  \n",
    "  def forward(self, x):\n",
    "    return x.view(x.shape[0], -1)"
   ]
  },
  {
   "cell_type": "markdown",
   "metadata": {
    "id": "x3i9R3NmpUY3"
   },
   "source": [
    "Below is the main class for a classifier parameterized by a neural network."
   ]
  },
  {
   "cell_type": "code",
   "execution_count": 7,
   "metadata": {
    "id": "Vtv_pAkmOrS3"
   },
   "outputs": [],
   "source": [
    "class ClassifierNeuralNet(nn.Module):\n",
    "    def __init__(self, classnet):\n",
    "        super(ClassifierNeuralNet, self).__init__()\n",
    "        # We provide a sequential module with layers and activations\n",
    "        self.classnet = classnet\n",
    "        # The loss function (the negative log-likelihood)\n",
    "        self.nll = nn.NLLLoss(reduction='none') #it requires log-softmax as input!!\n",
    "\n",
    "    # This function classifies an image x to a class.\n",
    "    # The output must be a class label (long).\n",
    "    def classify(self, x):\n",
    "      #------\n",
    "      # PLEASE FILL IN\n",
    "      y_pred = self.classnet(x)\n",
    "      _,pred_label = torch.max(y_pred, dim = 1)\n",
    "      #------\n",
    "      return pred_label\n",
    "\n",
    "    # This function is crucial for a module in PyTorch.\n",
    "    # In our framework, this class outputs a value of the loss function.\n",
    "    def forward(self, x, y, reduction='avg'):\n",
    "\n",
    "      loss = self.nll(self.classnet(x),y.long())\n",
    "\n",
    "      if reduction == 'sum':\n",
    "        return loss.sum()\n",
    "      else:\n",
    "        return loss.mean()"
   ]
  },
  {
   "cell_type": "markdown",
   "metadata": {
    "id": "bwaou1x-gmx3"
   },
   "source": [
    "**Question 1:** What is the objective function for a classification task? In other words, what is nn.NLLLos in the code above? Pelase write it in mathematical terms.\n",
    "\n",
    "**Answer:**\n",
    "nn.NLLLos is used to calculate the loss for classification tasks by assigning some weights to each class. it expect log probabilities of each class which can be archived by using LogSoftmax before it.\n",
    "l(x,y)=L= {l1....lN} , ln = -Wyn*Xnyn , Wc = Weight[c].1{c!=ignore_index}\n",
    "where x is the input, y is the target, w is the weight, and N is the batch size.\n"
   ]
  },
  {
   "cell_type": "markdown",
   "metadata": {
    "id": "kvX88kN-irAD"
   },
   "source": [
    "**Question 2:** In the code above, it is said to use the logarithm of the softmax as the final activation function. Is it correct to use the log-softmax instead of the softmax for making predictions (i.e., picking the most probable label).\n",
    "\n",
    "**Answer:** Yes, it is fine because the logarithm does not change the most probable label, it changes only the probability to the log-probability."
   ]
  },
  {
   "cell_type": "markdown",
   "metadata": {
    "id": "HVqRQduw3mgm"
   },
   "source": [
    "### 2.2 Evaluation"
   ]
  },
  {
   "cell_type": "code",
   "execution_count": 8,
   "metadata": {
    "id": "4g9uUFgYP1kT"
   },
   "outputs": [],
   "source": [
    "# PLEASE DO NOT REMOVE\n",
    "def evaluation(test_loader, name=None, model_best=None, epoch=None):\n",
    "  # If available, load the best performing model\n",
    "  if model_best is None:\n",
    "    model_best = torch.load(name + '.model')\n",
    "  \n",
    "  model_best.eval()# set the model to the evaluation mode\n",
    "  loss_test = 0.\n",
    "  loss_error = 0.\n",
    "  N = 0.\n",
    "  # start evaluation\n",
    "  for indx_batch, (test_batch, test_targets) in enumerate(test_loader):\n",
    "    # loss (nll)\n",
    "    loss_test_batch = model_best.forward(test_batch, test_targets, reduction='sum')\n",
    "    loss_test = loss_test + loss_test_batch.item()\n",
    "    # classification error\n",
    "    y_pred = model_best.classify(test_batch)\n",
    "    e = 1.*(y_pred == test_targets)\n",
    "    loss_error = loss_error + (1. - e).sum().item()\n",
    "    # the number of examples\n",
    "    N = N + test_batch.shape[0]\n",
    "  # divide by the number of examples\n",
    "  loss_test = loss_test / N\n",
    "  loss_error = loss_error / N\n",
    "\n",
    "  # Print the performance\n",
    "  if epoch is None:\n",
    "    print(f'-> FINAL PERFORMANCE: nll={loss_test}, ce={loss_error}')\n",
    "  else:\n",
    "    if epoch % 10 == 0:\n",
    "      print(f'Epoch: {epoch}, val nll={loss_test}, val ce={loss_error}')\n",
    "\n",
    "  return loss_test, loss_error\n",
    "\n",
    "# An auxiliary function for plotting the performance curves\n",
    "def plot_curve(name, signal, file_name='curve.pdf', xlabel='epochs', ylabel='nll', color='b-', test_eval=None):\n",
    "  # plot the curve\n",
    "  plt.plot(np.arange(len(signal)), signal, color, linewidth='3', label=ylabel +' val')\n",
    "  # if available, add the final (test) performance\n",
    "  if test_eval is not None:\n",
    "    plt.hlines(test_eval, xmin=0, xmax=len(signal), linestyles='dashed', label=ylabel +' test')\n",
    "    plt.text(len(signal), test_eval, \"{:.3f}\".format(test_eval),)\n",
    "  # set x- and ylabels, add legend, save the figure\n",
    "  plt.xlabel(xlabel), plt.ylabel(ylabel)\n",
    "  plt.legend()\n",
    "  plt.savefig(name + file_name, bbox_inches='tight')\n",
    "  plt.show()"
   ]
  },
  {
   "cell_type": "markdown",
   "metadata": {
    "id": "YzRd-TiY3puF"
   },
   "source": [
    "### 2.3 Training procedure"
   ]
  },
  {
   "cell_type": "code",
   "execution_count": 9,
   "metadata": {
    "id": "CMhQWbM1QcBM"
   },
   "outputs": [],
   "source": [
    "# PLEASE DO NOT REMOVE!\n",
    "# The training procedure\n",
    "def training(name, max_patience, num_epochs, model, optimizer, training_loader, val_loader):\n",
    "  nll_val = []\n",
    "  error_val = []\n",
    "  best_nll = 1000.\n",
    "  patience = 0\n",
    "\n",
    "  # Main training loop\n",
    "  for e in range(num_epochs):\n",
    "    model.train() # set the model to the training mode\n",
    "    # load batches\n",
    "    for indx_batch, (batch, targets) in enumerate(training_loader):\n",
    "      # calculate the forward pass (loss function for given images and labels)\n",
    "      loss = model.forward(batch, targets)\n",
    "      # remember we need to zero gradients! Just in case!\n",
    "      optimizer.zero_grad()\n",
    "      # calculate backward pass\n",
    "      loss.backward(retain_graph=True)\n",
    "      # run the optimizer\n",
    "      optimizer.step()\n",
    "\n",
    "    # Validation: Evaluate the model on the validation data\n",
    "    loss_e, error_e = evaluation(val_loader, model_best=model, epoch=e)\n",
    "    nll_val.append(loss_e)  # save for plotting\n",
    "    error_val.append(error_e)  # save for plotting\n",
    "\n",
    "    # Early-stopping: update the best performing model and break training if no \n",
    "    # progress is observed.\n",
    "    if e == 0:\n",
    "      torch.save(model, name + '.model')\n",
    "      best_nll = loss_e\n",
    "    else:\n",
    "      if loss_e < best_nll:\n",
    "        torch.save(model, name + '.model')\n",
    "        best_nll = loss_e\n",
    "        patience = 0\n",
    "      else:\n",
    "        patience = patience + 1\n",
    "\n",
    "    if patience > max_patience:\n",
    "      break\n",
    "\n",
    "  # Return nll and classification error.\n",
    "  nll_val = np.asarray(nll_val)\n",
    "  error_val = np.asarray(error_val)\n",
    "\n",
    "  return nll_val, error_val"
   ]
  },
  {
   "cell_type": "markdown",
   "metadata": {
    "id": "gHYGz3G87nuk"
   },
   "source": [
    "### 2.4 Experiments"
   ]
  },
  {
   "cell_type": "markdown",
   "metadata": {
    "id": "op-YbN-JREqw"
   },
   "source": [
    "#### Initialize dataloaders"
   ]
  },
  {
   "cell_type": "code",
   "execution_count": 10,
   "metadata": {
    "id": "R_cRaP3gRET1"
   },
   "outputs": [],
   "source": [
    "# PLEASE DO NOT REMOVE\n",
    "# Initialize training, validation and test sets.\n",
    "train_data = Digits(mode='train')\n",
    "val_data = Digits(mode='val')\n",
    "test_data = Digits(mode='test')\n",
    "\n",
    "# Initialize data loaders.\n",
    "training_loader = DataLoader(train_data, batch_size=64, shuffle=True)\n",
    "val_loader = DataLoader(val_data, batch_size=64, shuffle=False)\n",
    "test_loader = DataLoader(test_data, batch_size=64, shuffle=False)"
   ]
  },
  {
   "cell_type": "markdown",
   "metadata": {
    "id": "s3ni_8Pv3iuG"
   },
   "source": [
    "#### Initialize hyperparameters"
   ]
  },
  {
   "cell_type": "code",
   "execution_count": 10,
   "metadata": {
    "id": "dnMs4gcLRLEK"
   },
   "outputs": [],
   "source": [
    "# PLEASE DO NOT REMOVE\n",
    "# Hyperparameters\n",
    "# -> data hyperparams\n",
    "D = 64   # input dimension\n",
    "\n",
    "# -> model hyperparams\n",
    "M = 256  # the number of neurons in scale (s) and translation (t) nets\n",
    "K = 10 # the number of labels\n",
    "num_kernels = 32 #the number of kernels for CNN\n",
    "\n",
    "# -> training hyperparams\n",
    "lr = 1e-3 # learning rate\n",
    "wd = 1e-5 # weight decay\n",
    "num_epochs = 1000 # max. number of epochs\n",
    "max_patience = 20 # an early stopping is used, if training doesn't improve for longer than 20 epochs, it is stopped"
   ]
  },
  {
   "cell_type": "code",
   "execution_count": 12,
   "metadata": {
    "id": "AZH7ahwBRP9B"
   },
   "outputs": [
    {
     "name": "stdout",
     "output_type": "stream",
     "text": [
      "\n",
      "-> START classifier_mlp\n",
      "Epoch: 0, val nll=2.0125255366734094, val ce=0.38285714285714284\n",
      "Epoch: 10, val nll=0.18686469623020718, val ce=0.04857142857142857\n",
      "Epoch: 20, val nll=0.11588550056729997, val ce=0.03428571428571429\n",
      "Epoch: 30, val nll=0.11635976416724068, val ce=0.04285714285714286\n",
      "Epoch: 40, val nll=0.09216934885297502, val ce=0.03142857142857143\n",
      "Epoch: 50, val nll=0.09210584061486381, val ce=0.02857142857142857\n",
      "Epoch: 60, val nll=0.0793774117742266, val ce=0.02857142857142857\n",
      "Epoch: 70, val nll=0.08855681121349335, val ce=0.037142857142857144\n",
      "Epoch: 80, val nll=0.07278435966798237, val ce=0.03142857142857143\n",
      "-> FINAL PERFORMANCE: nll=0.28921881404765765, ce=0.06711409395973154\n"
     ]
    },
    {
     "data": {
      "image/png": "[encoded data removed]",
      "text/plain": [
       "<Figure size 432x288 with 1 Axes>"
      ]
     },
     "metadata": {
      "needs_background": "light"
     },
     "output_type": "display_data"
    },
    {
     "data": {
      "image/png": "[encoded data removed]",
      "text/plain": [
       "<Figure size 432x288 with 1 Axes>"
      ]
     },
     "metadata": {
      "needs_background": "light"
     },
     "output_type": "display_data"
    },
    {
     "name": "stdout",
     "output_type": "stream",
     "text": [
      "\n",
      "-> START classifier_cnn\n",
      "Epoch: 0, val nll=1.8544747379847935, val ce=0.32571428571428573\n",
      "Epoch: 10, val nll=0.10402732406343733, val ce=0.03142857142857143\n",
      "Epoch: 20, val nll=0.06732511597020285, val ce=0.02\n",
      "Epoch: 30, val nll=0.05184169262647629, val ce=0.017142857142857144\n",
      "Epoch: 40, val nll=0.04314624007259096, val ce=0.017142857142857144\n",
      "Epoch: 50, val nll=0.04684181304914611, val ce=0.017142857142857144\n",
      "Epoch: 60, val nll=0.06281881257891656, val ce=0.017142857142857144\n",
      "Epoch: 70, val nll=0.058627796737211094, val ce=0.02\n",
      "-> FINAL PERFORMANCE: nll=0.2409133585774125, ce=0.06711409395973154\n"
     ]
    },
    {
     "data": {
      "image/png": "[encoded data removed]",
      "text/plain": [
       "<Figure size 432x288 with 1 Axes>"
      ]
     },
     "metadata": {
      "needs_background": "light"
     },
     "output_type": "display_data"
    },
    {
     "data": {
      "image/png": "[encoded data removed]",
      "text/plain": [
       "<Figure size 432x288 with 1 Axes>"
      ]
     },
     "metadata": {
      "needs_background": "light"
     },
     "output_type": "display_data"
    }
   ],
   "source": [
    "# PLEASE DO NOT REMOVE and FILL IN WHEN NECESSARY!\n",
    "# We will run two models: MLP and CNN\n",
    "names = ['classifier_mlp', 'classifier_cnn']\n",
    "\n",
    "# loop over models\n",
    "for name in names:\n",
    "  print('\\n-> START {}'.format(name))\n",
    "  # Create a folder (REMEMBER: You must mount your drive if you use Colab!)\n",
    "  if name == 'classifier_mlp':\n",
    "    name = name + '_M_' + str(M)\n",
    "  elif name == 'classifier_cnn':\n",
    "    name = name + '_M_' + str(M) + '_kernels_' + str(num_kernels)\n",
    "  \n",
    "  # Create a folder if necessary\n",
    "  result_dir = os.path.join(results_dir, 'results', name + '/')\n",
    "  if not(os.path.exists(result_dir)):\n",
    "    os.mkdir(result_dir)\n",
    "\n",
    "  # MLP\n",
    "  if name[0:14] == 'classifier_mlp':\n",
    "\n",
    "    classnet = nn.Sequential(nn.Linear(64,128),\n",
    "                             nn.ReLU(),\n",
    "                             nn.Dropout(0.2),\n",
    "                             nn.Linear(128,256),\n",
    "                             nn.ReLU(),\n",
    "                             nn.Dropout(0.2),\n",
    "                             nn.Linear(256,128),\n",
    "                             nn.ReLU(),\n",
    "                             nn.Dropout(0.2),\n",
    "                             nn.Linear(128,64),\n",
    "                             nn.ReLU(),\n",
    "                             nn.Linear(64,10),\n",
    "                             nn.LogSoftmax(dim=1))\n",
    "\n",
    "\n",
    "  # CNN\n",
    "  elif name[0:14] == 'classifier_cnn':\n",
    "\n",
    "    classnet = nn.Sequential(Reshape((1,8,8)),\n",
    "                             nn.Conv2d(1,32,3,1),\n",
    "                             nn.ReLU(),\n",
    "                             nn.Conv2d(32,64,3,1),\n",
    "                             nn.ReLU(),\n",
    "                             nn.MaxPool2d(2),\n",
    "                             nn.Dropout(0.2),\n",
    "                             Flatten(),\n",
    "                             nn.Linear(256,128),\n",
    "                             nn.ReLU(),\n",
    "                             nn.Linear(128,64),\n",
    "                             nn.ReLU(),\n",
    "                             nn.Linear(64,10),\n",
    "                             nn.LogSoftmax(dim=1))\n",
    "\n",
    "  # Init ClassifierNN\n",
    "  model = ClassifierNeuralNet(classnet)\n",
    "\n",
    "  # Init OPTIMIZER (here we use ADAMAX)\n",
    "  optimizer = torch.optim.Adamax([p for p in model.parameters() if p.requires_grad == True], lr=lr, weight_decay=wd) \n",
    "  \n",
    "  # Training procedure\n",
    "  nll_val, error_val = training(name=result_dir + name,\n",
    "                                max_patience=max_patience,\n",
    "                                num_epochs=num_epochs,\n",
    "                                model=model,\n",
    "                                optimizer=optimizer,\n",
    "                                training_loader=training_loader,\n",
    "                                val_loader=val_loader)\n",
    "  \n",
    "  # The final evaluation (on the test set)\n",
    "  test_loss, test_error = evaluation(name=result_dir + name, test_loader=test_loader)\n",
    "  # write the results to a file\n",
    "  f = open(result_dir + name + '_test_loss.txt', \"w\")\n",
    "  f.write('NLL: ' + str(test_loss) + '\\nCE: ' + str(test_error))\n",
    "  f.close()\n",
    "  # create curves\n",
    "  plot_curve(result_dir + name, nll_val, file_name='_nll_val_curve.pdf', ylabel='nll', test_eval=test_loss)\n",
    "  plot_curve(result_dir + name, error_val, file_name='_ca_val_curve.pdf', ylabel='ce', color='r-', test_eval=test_error)"
   ]
  },
  {
   "cell_type": "markdown",
   "metadata": {
    "id": "oFX-DzH9ftPg"
   },
   "source": [
    "## 2.5 Analysis"
   ]
  },
  {
   "cell_type": "markdown",
   "metadata": {
    "id": "2-TFtGdZfz3a"
   },
   "source": [
    "**Question 3 **: Please compare the convergence of MLP and CNN in terms of the loss function and the classification error.\n",
    "\n",
    "**Answer**: In terms of loss function both MLP and CNN converges on nearly same point i.e 0.2, but in terms of clasification error graph for CNN converges faster as compared to MLP. "
   ]
  },
  {
   "cell_type": "markdown",
   "metadata": {
    "id": "0f2P57ZmlwXz"
   },
   "source": [
    "**Question 4 **: In general, for a properly picked architectures, a CNN should work better than an MLP. Did you notice that? Why (in general) CNNs are better suited to images than MLPs?\n",
    "\n",
    "**Answer**: CNN is better then MLP here because of the low classification error in less epochs. CNN use kernels to extract features of image like edges and shapes etc thats why CNN is better than MLP's "
   ]
  },
  {
   "cell_type": "markdown",
   "metadata": {
    "id": "1QJ_mRdT7Ais"
   },
   "source": [
    "## 3 Application to Street House View Numbers (SVHN)"
   ]
  },
  {
   "cell_type": "markdown",
   "metadata": {
    "id": "YHhUUaYL7GEx"
   },
   "source": [
    "\n",
    "http://ufldl.stanford.edu/housenumbers/\n",
    "\n",
    "Please follow the following steps:\n",
    "1. Create appropriate Dataset class. Please remember to use the original training data and test data, and also to create a validation set from the traning data (at least 10% of the training examples). **Do not use extra examples!**\n",
    "2. Implement an architecture that will give at most 0.1 classification error. For instance, see this paper as a reference: https://arxiv.org/pdf/1204.3968.pdf#:~:text=The%20SVHN%20classification%20dataset%20%5B8,set%20of%20more%20difficult%20samples\n",
    "3. Think of an extra component that could improve the performance (e.g., a regularization, specific activation functions).\n",
    "4. Provide a good explanation of the applied architecture and a description of all components.\n",
    "5. Analyze the results."
   ]
  },
  {
   "cell_type": "code",
   "execution_count": 11,
   "metadata": {},
   "outputs": [],
   "source": [
    "from torchvision import datasets #using SVHN dataset from torchvision\n",
    "class SVHN(Dataset):\n",
    "\n",
    "  def __init__(self, mode='train', transforms=None):\n",
    "    train_set = datasets.SVHN('datasets/SVHN/train/', split='train', download=True) \n",
    "    test_set = datasets.SVHN('datasets/SVHN/test/', split='test', download=True)\n",
    "    if mode == 'train':\n",
    "      self.data = train_set.data[:65932].astype(np.float32)\n",
    "      self.targets = train_set.labels[:65932]\n",
    "    elif mode == 'val':\n",
    "      self.data = train_set.data[65932:].astype(np.float32)\n",
    "      self.targets = train_set.labels[65932:]\n",
    "    else:\n",
    "      self.data = test_set.data.astype(np.float32)\n",
    "      self.targets = test_set.labels\n",
    "        \n",
    "    self.transforms = transforms\n",
    "\n",
    "  def __len__(self):\n",
    "    return len(self.data)\n",
    "\n",
    "  def __getitem__(self, idx):\n",
    "    sample_x = self.data[idx]\n",
    "    sample_y = self.targets[idx]\n",
    "    if self.transforms:\n",
    "      sample_x = self.transforms(sample_x)\n",
    "    return (sample_x, sample_y)"
   ]
  },
  {
   "cell_type": "code",
   "execution_count": 12,
   "metadata": {},
   "outputs": [
    {
     "name": "stdout",
     "output_type": "stream",
     "text": [
      "Using downloaded and verified file: datasets/SVHN/train/train_32x32.mat\n",
      "Using downloaded and verified file: datasets/SVHN/test/test_32x32.mat\n",
      "Using downloaded and verified file: datasets/SVHN/train/train_32x32.mat\n",
      "Using downloaded and verified file: datasets/SVHN/test/test_32x32.mat\n",
      "Using downloaded and verified file: datasets/SVHN/train/train_32x32.mat\n",
      "Using downloaded and verified file: datasets/SVHN/test/test_32x32.mat\n"
     ]
    }
   ],
   "source": [
    "train_data = SVHN(mode='train')\n",
    "val_data = SVHN(mode='val')\n",
    "test_data = SVHN(mode='test')\n",
    "\n",
    "# Initialize data loaders.\n",
    "training_loader = DataLoader(train_data, batch_size=64, shuffle=True)\n",
    "val_loader = DataLoader(val_data, batch_size=64, shuffle=False)\n",
    "test_loader = DataLoader(test_data, batch_size=64, shuffle=False)"
   ]
  },
  {
   "cell_type": "code",
   "execution_count": 13,
   "metadata": {},
   "outputs": [
    {
     "name": "stdout",
     "output_type": "stream",
     "text": [
      "\n",
      "-> START classifier_cnn_3\n",
      "Epoch: 0, val nll=1.111038399393648, val ce=0.2836860068259386\n",
      "-> FINAL PERFORMANCE: nll=0.39361025236395875, ce=0.10041487400122925\n"
     ]
    },
    {
     "data": {
      "image/png": "[encoded data removed]",
      "text/plain": [
       "<Figure size 432x288 with 1 Axes>"
      ]
     },
     "metadata": {
      "needs_background": "light"
     },
     "output_type": "display_data"
    },
    {
     "data": {
      "image/png": "[encoded data removed]",
      "text/plain": [
       "<Figure size 432x288 with 1 Axes>"
      ]
     },
     "metadata": {
      "needs_background": "light"
     },
     "output_type": "display_data"
    }
   ],
   "source": [
    "name = 'classifier_cnn_3'\n",
    "print('\\n-> START {}'.format(name))\n",
    "\n",
    "\n",
    "name = name + '_M_' + str(M) + '_kernels_' + str(num_kernels)\n",
    "result_dir = os.path.join(results_dir, 'results', name + '/')\n",
    "if not(os.path.exists(result_dir)):\n",
    "    os.mkdir(result_dir)\n",
    "\n",
    "classnet = nn.Sequential(nn.Conv2d(3,32,6,1),\n",
    "                         nn.ReLU(),\n",
    "                         \n",
    "                         nn.Conv2d(32,32,6,1),\n",
    "                         nn.MaxPool2d(2),\n",
    "                         nn.ReLU(),\n",
    "                         nn.Dropout(0.5),\n",
    "                         \n",
    "                         nn.Conv2d(32,64,6,1),\n",
    "                         nn.MaxPool2d(2),\n",
    "                         nn.ReLU(),\n",
    "                         nn.Dropout(0.5),\n",
    "                         \n",
    "                         Flatten(),\n",
    "                         nn.Linear(576,128),\n",
    "                         nn.ReLU(),\n",
    "                         \n",
    "                         nn.Linear(128,64),\n",
    "                         nn.ReLU(),\n",
    "                         \n",
    "                         nn.Linear(64,10),\n",
    "                         nn.LogSoftmax(dim=1))\n",
    "\n",
    "\n",
    "model = ClassifierNeuralNet(classnet)\n",
    "\n",
    "# Init OPTIMIZER (here we use ADAMAX)\n",
    "optimizer = torch.optim.Adamax([p for p in model.parameters() if p.requires_grad == True], lr=lr, weight_decay=wd) \n",
    "\n",
    "# Training procedure\n",
    "nll_val, error_val = training(name=result_dir + name,\n",
    "                            max_patience=max_patience,\n",
    "                            num_epochs=10,\n",
    "                            model=model,\n",
    "                            optimizer=optimizer,\n",
    "                            training_loader=training_loader,\n",
    "                            val_loader=val_loader)\n",
    "  \n",
    "# The final evaluation (on the test set)\n",
    "test_loss, test_error = evaluation(name=result_dir + name, test_loader=test_loader)\n",
    "# write the results to a file\n",
    "f = open(result_dir + name + '_test_loss.txt', \"w\")\n",
    "f.write('NLL: ' + str(test_loss) + '\\nCE: ' + str(test_error))\n",
    "f.close()\n",
    "# create curves\n",
    "plot_curve(result_dir + name, nll_val, file_name='_nll_val_curve.pdf', ylabel='nll', test_eval=test_loss)\n",
    "plot_curve(result_dir + name, error_val, file_name='_ca_val_curve.pdf', ylabel='ce', color='r-', test_eval=test_error)"
   ]
  },
  {
   "cell_type": "markdown",
   "metadata": {},
   "source": [
    "Architecture Explanation: This arch contains three convolution layers followed by the relu and maxPool2D which is used to extract important feature from the image and represent it into smaller dimension. after there is flatten layer to add fully connected layer for the classification."
   ]
  },
  {
   "cell_type": "code",
   "execution_count": null,
   "metadata": {},
   "outputs": [],
   "source": []
  }
 ],
 "metadata": {
  "colab": {
   "collapsed_sections": [],
   "name": "assignment_4.ipynb",
   "provenance": [],
   "toc_visible": true
  },
  "kernelspec": {
   "display_name": "Python 3",
   "language": "python",
   "name": "python3"
  },
  "language_info": {
   "codemirror_mode": {
    "name": "ipython",
    "version": 3
   },
   "file_extension": ".py",
   "mimetype": "text/x-python",
   "name": "python",
   "nbconvert_exporter": "python",
   "pygments_lexer": "ipython3",
   "version": "3.7.9"
  }
 },
 "nbformat": 4,
 "nbformat_minor": 1
}